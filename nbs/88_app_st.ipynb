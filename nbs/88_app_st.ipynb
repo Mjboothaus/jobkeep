{
 "cells": [
  {
   "cell_type": "code",
   "execution_count": null,
   "metadata": {
    "hide_input": true
   },
   "outputs": [],
   "source": [
    "from nbdev import *"
   ]
  },
  {
   "cell_type": "code",
   "execution_count": null,
   "metadata": {},
   "outputs": [
    {
     "name": "stdout",
     "output_type": "stream",
     "text": [
      "Cells will be exported to jobkeep.app_st,\n",
      "unless a different module is specified after an export flag: `%nbdev_export special.module`\n"
     ]
    }
   ],
   "source": [
    "%nbdev_default_export app_st"
   ]
  },
  {
   "cell_type": "markdown",
   "metadata": {},
   "source": [
    "# Jobkeep App\n",
    "\n",
    "> This is the front-end application built in Streamlit (which I believe is not compatible with Jupyter notebooks).\n",
    "> However `nbdev` converts this to a straight .py script by default - which should be possible to `streamlit run`.\n",
    "\n",
    "```\n",
    "TODOs: \n",
    "- Need to add some tests!\n",
    "- Look at deployment e.g. to Linode, Azure, AWS, PythonAnywhere, etc.\n",
    "```"
   ]
  },
  {
   "cell_type": "code",
   "execution_count": null,
   "metadata": {},
   "outputs": [],
   "source": [
    "%nbdev_hide\n",
    "from nbdev.showdoc import *\n",
    "from fastcore.test import *"
   ]
  },
  {
   "cell_type": "code",
   "execution_count": null,
   "metadata": {},
   "outputs": [],
   "source": [
    "%nbdev_export\n",
    "import numpy as np\n",
    "import pandas as pd\n",
    "import datetime as dt\n",
    "import streamlit as st\n",
    "from streamlit_folium import folium_static\n",
    "import folium\n",
    "from PIL import Image\n",
    "from IPython.display import display\n",
    "#import os, io\n",
    "#from dateutil.parser import parse\n",
    "\n",
    "from jobkeep.core import in_notebook\n",
    "from jobkeep.datapipe import load_and_cache_raw_data"
   ]
  },
  {
   "cell_type": "code",
   "execution_count": null,
   "metadata": {},
   "outputs": [],
   "source": [
    "%nbdev_export_internal\n",
    "\n",
    "DATA_INFO = '[JobKeeper: treasury.gov.au](https://treasury.gov.au/coronavirus/jobkeeper/data)'\n",
    "AUTHOR_INFO = 'AUTHOR: [Michael J. Booth](https://about.me/mjboothaus)'\n",
    "APP_NAME = 'JobKeep App'\n",
    "\n",
    "st.beta_set_page_config(page_title=APP_NAME)"
   ]
  },
  {
   "cell_type": "code",
   "execution_count": null,
   "metadata": {},
   "outputs": [],
   "source": [
    "%nbdev_export\n",
    "class SideBar:\n",
    "    datasource = DATA_INFO\n",
    "    datasize = 0   # look to calculate this (in MB?) - TEST: Comment change\n",
    "    author = AUTHOR_INFO\n",
    "    data_title = 'Data details...'\n",
    "    data_local = False\n",
    "    start_date = dt.date.today()\n",
    "    end_date = dt.date.today()\n",
    "    selected_data = None\n",
    "\n",
    "\n",
    "def app_sidebar(APP_NAME):\n",
    "    IMAGE_PATH = '/Users/mjboothaus/iCloud/Code/Github/jobkeep/resources'\n",
    "    sb = SideBar()\n",
    "\n",
    "    #aw_image = Image.open(IMAGE_PATH + 'TODO.jpeg')\n",
    "    #st.sidebar.image(image=aw_image, use_column_width=True, output_format='JPEG')\n",
    "    \n",
    "    st.sidebar.info(APP_NAME)\n",
    "    st.sidebar.markdown(sb.author)\n",
    "    st.sidebar.markdown(sb.datasource)\n",
    "    st.sidebar.info(sb.data_title)\n",
    "    #st.sidebar.markdown('Datasize: ' + str(sb.datasize))\n",
    "\n",
    "    # TODO: Add custom app-specific sidebar properties/widgets\n",
    "    \n",
    "    return sb"
   ]
  },
  {
   "cell_type": "code",
   "execution_count": null,
   "metadata": {},
   "outputs": [],
   "source": [
    "%nbdev_export\n",
    "def app_mainscreen(APP_NAME, sb):\n",
    "    \n",
    "    st.header(APP_NAME)\n",
    "    \n",
    "    df = load_and_cache_raw_data()\n",
    "    \n",
    "    st.write(df)\n",
    "    \n",
    "    # Load data\n",
    "    # TODO:\n",
    "\n",
    "    # Create mainscreen\n",
    "  \n",
    "    return None"
   ]
  },
  {
   "cell_type": "code",
   "execution_count": null,
   "metadata": {},
   "outputs": [],
   "source": [
    "%nbdev_export\n",
    "def notebook_mainscreen(APP_NAME, sb):\n",
    "    \n",
    "    print(APP_NAME)\n",
    "\n",
    "    st.header(APP_NAME)\n",
    "    \n",
    "    # Load data\n",
    "    # TODO:\n",
    "\n",
    "    # Create mainscreen\n",
    "  \n",
    "    return None"
   ]
  },
  {
   "cell_type": "code",
   "execution_count": null,
   "metadata": {},
   "outputs": [],
   "source": [
    "%nbdev_export\n",
    "\n",
    "sb = app_sidebar(APP_NAME)\n",
    "\n",
    "if in_notebook():\n",
    "    notebook_mainscreen(APP_NAME, sb)\n",
    "else:\n",
    "    app_mainscreen(APP_NAME, sb)"
   ]
  }
 ],
 "metadata": {
  "kernelspec": {
   "display_name": ".venv",
   "language": "python",
   "name": ".venv"
  }
 },
 "nbformat": 4,
 "nbformat_minor": 2
}
